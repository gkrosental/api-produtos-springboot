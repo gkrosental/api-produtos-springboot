{
 "cells": [
  {
   "cell_type": "markdown",
   "id": "13acbc2f",
   "metadata": {},
   "source": [
    "# H2 Database Operations for Spring Boot Produtos API\n",
    "\n",
    "This notebook contains SQL commands for working with the H2 database in your Spring Boot application.\n",
    "\n",
    "## Connection Details\n",
    "- **JDBC URL**: `jdbc:h2:mem:testdb`\n",
    "- **Username**: `sa`\n",
    "- **Password**: *(leave empty)*\n",
    "- **Table Name**: `produtos` (lowercase, as created by Hibernate)"
   ]
  }
 ],
 "metadata": {
  "language_info": {
   "name": "python"
  }
 },
 "nbformat": 4,
 "nbformat_minor": 5
}
